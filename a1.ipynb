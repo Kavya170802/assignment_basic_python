{
  "nbformat": 4,
  "nbformat_minor": 0,
  "metadata": {
    "colab": {
      "provenance": [],
      "authorship_tag": "ABX9TyMzrRnHNj6jSJg5gnRQPf5v",
      "include_colab_link": true
    },
    "kernelspec": {
      "name": "python3",
      "display_name": "Python 3"
    },
    "language_info": {
      "name": "python"
    }
  },
  "cells": [
    {
      "cell_type": "markdown",
      "metadata": {
        "id": "view-in-github",
        "colab_type": "text"
      },
      "source": [
        "<a href=\"https://colab.research.google.com/github/Kavya170802/assignment_basic_python/blob/main/a1.ipynb\" target=\"_parent\"><img src=\"https://colab.research.google.com/assets/colab-badge.svg\" alt=\"Open In Colab\"/></a>"
      ]
    },
    {
      "cell_type": "markdown",
      "source": [
        "Question 1 : L is a list defined as L= [11, 12, 13, 14].\n",
        "\n",
        "(i) WAP to add 50 and 60 to L.\n",
        "\n",
        "(ii)WAP to remove 11 and 13from L.\n",
        "\n",
        "(iii) WAP to sort L in ascending order.\n",
        "\n",
        "(iv) WAP to sort L in descending order.\n",
        "\n",
        "(v) WAP to search for 13 in L.\n",
        "\n",
        "(vi) WAP to count the number of elements present in L.\n",
        "\n",
        "(vii) WAP to sum all the elements in L.\n",
        "\n",
        "(viii) WAP to sum all ODD numbers in L.\n",
        "\n",
        "(ix) WAP to sum all EVEN numbers in L.\n",
        "\n",
        "(x) WAP to sum all PRIME numbers in L.\n",
        "\n",
        "(xi) WAP to clear all the elements in L.\n",
        "\n",
        "(xii) WAP to delete L."
      ],
      "metadata": {
        "id": "EHKzekeguhCo"
      }
    },
    {
      "cell_type": "code",
      "execution_count": 2,
      "metadata": {
        "colab": {
          "base_uri": "https://localhost:8080/"
        },
        "id": "hBIpO5v1tAM1",
        "outputId": "0340168a-bf84-4107-e1eb-f942f50ca041"
      },
      "outputs": [
        {
          "output_type": "stream",
          "name": "stdout",
          "text": [
            "original list is: [11, 12, 13, 14]\n",
            "List after adding two more elements: [11, 12, 13, 14, 50, 60]\n",
            "List after removing the elements: [12, 14, 50, 60]\n",
            "List after sorting the elements in ascending order: [12, 14, 50, 60]\n",
            "List after sorting the elements in descending order: [60, 50, 14, 12]\n",
            "element not found\n",
            "size of L is: 4\n",
            "sum of all elements is: 136\n",
            "the sum of even num is: 136\n",
            "the sum of odd num is: 0\n",
            "sumo of prime number is: 0\n",
            "List after clearing all the elements: []\n"
          ]
        }
      ],
      "source": [
        "# List\n",
        "L = [11,12,13,14]\n",
        "print(\"original list is:\",L)\n",
        "# Add 50 and 60 to the list\n",
        "L.append(50)\n",
        "L.append(60)\n",
        "print(\"List after adding two more elements:\",L)\n",
        "# Remove 11 and 13 from the list\n",
        "L.remove(11)\n",
        "L.remove(13)\n",
        "print(\"List after removing the elements:\",L)\n",
        "# Sort the elements in ascending order\n",
        "L.sort()\n",
        "print(\"List after sorting the elements in ascending order:\",L)\n",
        "# Sort the elements in descending order\n",
        "L.sort(reverse=True)\n",
        "print(\"List after sorting the elements in descending order:\",L)\n",
        "# Find the element in a list\n",
        "if 13 in L :\n",
        "  print(\"element found\")\n",
        "else :\n",
        "  print(\"element not found\")\n",
        "# Count the number of elements in a list\n",
        "size= len(L)\n",
        "print(\"size of L is:\",size)\n",
        "# Find the sum of all the elements present in a list\n",
        "s=0\n",
        "for i in range(size):\n",
        "  s=s+L[i]\n",
        "print(\"sum of all elements is:\",s)\n",
        "# Find the sum of odd and even numbers in a list\n",
        "es = 0\n",
        "os = 0\n",
        "for j in range(size):\n",
        "  if L[j] %2 ==0 :\n",
        "    es= es + L[j]\n",
        "  else :\n",
        "    os= os + L[j]\n",
        "print(\"the sum of even num is:\",es)\n",
        "print(\"the sum of odd num is:\",os)\n",
        "# WAP to sum all the prime numbers in a list\n",
        "sum = 0\n",
        "for i in L :\n",
        "  for val in range(2,i):\n",
        "    if int(i % val) == 0:\n",
        "      val = i\n",
        "      break;\n",
        "    if val is not i:\n",
        "      sum = sum +i\n",
        "print(\"sumo of prime number is:\",sum)\n",
        "# WAP to clear all the elements in L\n",
        "L.clear()\n",
        "print(\"List after clearing all the elements:\",L)\n",
        "\n",
        "\n",
        "\n"
      ]
    },
    {
      "cell_type": "markdown",
      "source": [
        "Question 2 : D is a dictionary defined as D= {1:5.6, 2:7.8, 3:6.6, 4:8.7, 5:7.7}.\n",
        "\n",
        "(i) WAP to add new entry in D; key=8 and value is 8.8\n",
        "\n",
        "(ii) WAP to remove key=2.\n",
        "\n",
        "(iii) WAP to check weather 6 key is present in D.\n",
        "\n",
        "(iv) WAP to count the number of elements present in D.\n",
        "\n",
        "(v) WAP to add all the values present D.\n",
        "\n",
        "(vi) WAP to update the value of 3 to 7.1.\n",
        "\n",
        "(vii) WAP to clear the dictionary."
      ],
      "metadata": {
        "id": "bBiaOOSDurWk"
      }
    },
    {
      "cell_type": "code",
      "source": [
        "#dictionary\n",
        "D= {1:5.6,2:7.8,3:6.6,4:8.7,5:7.7}\n",
        "print(\"The dictionary is:\",D)\n",
        "#WAP to add new entry in D; key=8 and value is 8.8\n",
        "D[8]=8.8\n",
        "print(\"Dictionary after updating the dictionary:\",D)\n",
        "#WAP to remove key=2\n",
        "del D[2]\n",
        "print(\"Dictionary after deleting the key:\",D)\n",
        "#WAP to check weather 6 key is present in D\n",
        "if 6 in D.keys():\n",
        "  print(\"Yes it is present\")\n",
        "else:\n",
        "  print(\"No it is not present\")\n",
        "#WAP to count the number of elements present in D\n",
        "print(len(D))\n",
        "#WAP to update the value of 3 to 7.1.\n",
        "D.update({3:7.1})\n",
        "print(\"Dictionary after updation:\",D)\n",
        "# WAP to clear the dictionary.\n",
        "D.clear()\n",
        "print (\"Clearning the dictionary:\",D)"
      ],
      "metadata": {
        "id": "lDGbRLW_uwUJ"
      },
      "execution_count": null,
      "outputs": []
    },
    {
      "cell_type": "markdown",
      "source": [
        "Question 3 : S1 is a set defined as S1= [10, 20, 30, 40, 50, 60]. S2 is a set defined as S2= [40, 50, 60, 70, 80, 90].\n",
        "\n",
        "(i) WAP to add 55 and 66 in Set S1.\n",
        "\n",
        "(ii) WAP to remove 10 and 30 from Set S1.\n",
        "\n",
        "(iii) WAP to check whether 40 is present in S1.\n",
        "\n",
        "(iv) WAP to find the union between S1 and S2.\n",
        "\n",
        "(v) WAP to find the intersection between S1 and S2.\n",
        "\n",
        "(vi) WAP to find the S1 - S2."
      ],
      "metadata": {
        "id": "P84Go5Ddu0PO"
      }
    },
    {
      "cell_type": "code",
      "source": [
        "# Set 1 and Set 2\n",
        "S1= {10,20,30,40,50,600}\n",
        "S2= {40,50,60,70,80,90}\n",
        "print(\"Set 1:\",S1)\n",
        "print(\"Set 2:\",S2)\n",
        "#WAP to add 55 and 66 in Set S1\n",
        "S1.update((55,66))\n",
        "print(\"SET 1 after updation is:\",S1)\n",
        "#WAP to remove 10 and 30 from Set S1.\n",
        "S1.remove(10)\n",
        "S1.remove(30)\n",
        "print(\"SET 1 after removing the elements:\",S1)\n",
        "#WAP to check whether 40 is present in S1.\n",
        "if 40 in S1:\n",
        "  print(\"it is present\")\n",
        "else:\n",
        "  print(\"it is not present\")\n",
        "#WAP to find the union between S1 and S2.\n",
        "S3=S1.union(S2)\n",
        "print(\"Union between S1 and S2:\",S3)\n",
        "#WAP to find the intersection between S1 and S2\n",
        "S3=S1.intersection(S2)\n",
        "print(\"Intersection between S1 and S2:\",S3)\n",
        "#WAP to find the S1 - S2.\n",
        "S3 = S1.difference(S2)\n",
        "print(\"Difference between S1 and S2:\",S3)"
      ],
      "metadata": {
        "id": "2Qpk6gQ1u4HQ"
      },
      "execution_count": null,
      "outputs": []
    },
    {
      "cell_type": "markdown",
      "source": [
        "Question 4 : Write the following program.\n",
        "\n",
        "(i) WAP to print 100 random strings whose length between 6 and 8."
      ],
      "metadata": {
        "id": "RNSoshcku7ya"
      }
    },
    {
      "cell_type": "code",
      "source": [
        "#WAP to print 100 random strings whose length between 6 and 8\n",
        "import random as r\n",
        "import string as s\n",
        "for i in range(100):\n",
        "  a=r.randint(6,8)\n",
        "  values=r.sample(s.ascii_letters,a)\n",
        "  values=\"\".join(values)\n",
        "  print(values)"
      ],
      "metadata": {
        "id": "9GKzBIoHu_Ym"
      },
      "execution_count": null,
      "outputs": []
    },
    {
      "cell_type": "markdown",
      "source": [
        "(ii) WAP to print all prime numbers between 600 and 800."
      ],
      "metadata": {
        "id": "0bkKTTA8vCXO"
      }
    },
    {
      "cell_type": "code",
      "source": [
        "#WAP to print all prime numbers between 600 and 800\n",
        "for num in range(600, 800):\n",
        "   # all prime numbers are greater than 1\n",
        "   if num > 1:\n",
        "       for i in range(2, num):\n",
        "           if (num % i) == 0:\n",
        "               break\n",
        "       else:\n",
        "           print(num)"
      ],
      "metadata": {
        "id": "IpizmbDfvC6X"
      },
      "execution_count": null,
      "outputs": []
    },
    {
      "cell_type": "markdown",
      "source": [
        "(iii) WAP to print all numbers between 100 and 1000 that are divisible by 7 and 9"
      ],
      "metadata": {
        "id": "66n9cCHavDLe"
      }
    },
    {
      "cell_type": "code",
      "source": [
        "#WAP to print all numbers between 100 and 1000 that are divisible by 7 and 9\n",
        "nl=[]\n",
        "for x in range(100,1001):\n",
        "   if (x%7==0) and (x%9==0):\n",
        "        nl.append(str(x))\n",
        "print (','.join(nl))"
      ],
      "metadata": {
        "id": "WRvZ-gE9vSlX"
      },
      "execution_count": null,
      "outputs": []
    },
    {
      "cell_type": "markdown",
      "source": [
        "Question 5 : WAP to create two lists of 10 random numbers between 10 and 30; Find-\n",
        "\n",
        "(i) Common numbers in the two lists\n",
        "\n",
        "(ii) Unique numbers in both the list\n",
        "\n",
        "(iii) Minimum in both the list\n",
        "\n",
        "(iv) Maximum in both the list\n",
        "\n",
        "(v) Sum of both the lists"
      ],
      "metadata": {
        "id": "P1tY0OeBvVeB"
      }
    },
    {
      "cell_type": "code",
      "source": [
        "# WAP to create two lists of 10 random numbers between 10 and 30\n",
        "import random as r\n",
        "l1=[]\n",
        "l2=[]\n",
        "for x in range(10):\n",
        "  l1.append(r.randint(10,30))\n",
        "  l2.append(r.randint(10,30))\n",
        "print(l1)\n",
        "print(l2)\n",
        "#Common numbers in the two lists\n",
        "c = set(l1).intersection(l2)\n",
        "print(c)\n",
        "#unique elements in the two lists\n",
        "\n",
        "#Minimum in both the list\n",
        "print(\"minimum value:\",min(l1))\n",
        "print(\"minimum value:\",min(l2))\n",
        "#Maximum number in both the list\n",
        "print(\"maximum value:\",max(l1))\n",
        "print(\"maximum value:\",max(l2))\n",
        "#Sum of both the lists\n",
        "sum_list=[]\n",
        "for i in range(0, len(l1)):\n",
        "    sum_list.append(l1[i] + l2[i])\n",
        "print (\"After sum list is : \" ,sum_list)"
      ],
      "metadata": {
        "id": "FZxAsUD4vg3d"
      },
      "execution_count": null,
      "outputs": []
    },
    {
      "cell_type": "markdown",
      "source": [
        "Question 6 : WAP to create a list of 100 random numbers between 100 and 900.\n",
        "\n",
        "Count and print the:\n",
        "\n",
        "\n",
        "(i) All odd numbers\n",
        "\n",
        "(ii) All even numbers\n",
        "\n",
        "(iii) All prime numbers"
      ],
      "metadata": {
        "id": "qgOmbPdPvoTL"
      }
    },
    {
      "cell_type": "code",
      "source": [
        "# WAP to create a list of 100 random numbers between 100 and 900\n",
        "import random as r\n",
        "l1=[]\n",
        "for x in range(100):\n",
        "    l1.append(r.randint(100, 900))\n",
        "print(\"original list:\",l1)\n",
        "#all odd numbers\n",
        "oddlist=[]\n",
        "for n in l1:\n",
        "  if n%2 !=0 :\n",
        "    oddlist.append(n)\n",
        "print(\"list of odd numbers:\",oddlist)\n",
        "# all even numbers\n",
        "evenlist=[]\n",
        "for i in l1:\n",
        "  if i%2==0:\n",
        "    evenlist.append(i)\n",
        "print(\"list of even numbers:\",evenlist)\n",
        "#all prime numbers\n",
        "prime=[]\n",
        "for j in l1:\n",
        "  c=0\n",
        "  for k in range(1,j):\n",
        "    if j%k==0:\n",
        "      c+=1\n",
        "  if c==1:\n",
        "    prime.append(j)\n",
        "print(\"list of prime numbers:\",prime)"
      ],
      "metadata": {
        "id": "JvTHxfwrvux4"
      },
      "execution_count": null,
      "outputs": []
    },
    {
      "cell_type": "markdown",
      "source": [
        "Question 7 : D is a dictionary defined as D={1:\"One\",2:\"Two\",3:\"Three\",4:\"Four\", 5:\"Five\"}.\n",
        "\n",
        "WAP to read all the keys and values from dictionary and write to the file in the given below format.\n",
        "\n",
        "Key1, Value1\n",
        "\n",
        "Key2, Value2\n",
        "\n",
        "Key3, Value3"
      ],
      "metadata": {
        "id": "JAan9M2Dv0R8"
      }
    },
    {
      "cell_type": "code",
      "source": [
        "#dictionary\n",
        "fp=open('xyz.txt','w')\n",
        "D ={1:\"One\",2:\"Two\",3:\"Three\",4:\"Four\", 5:\"Five\"}\n",
        "for key,value in D.items() :\n",
        "  fp.write('%s, %s'%(key,value)+\"\\n\")\n",
        "fp.close()\n"
      ],
      "metadata": {
        "id": "MwIBGO3iv_EV"
      },
      "execution_count": null,
      "outputs": []
    },
    {
      "cell_type": "markdown",
      "source": [
        "Question 8 : L is a list defined as L={\"One\",\"Two\",\"Three\",\"Four\",\"Five\"}.\n",
        "\n",
        "WAP to count the length of reach element from a list and write to the file in the given below format:\n",
        "\n",
        "One, 3\n",
        "\n",
        "Two, 3\n",
        "\n",
        "Four, 4"
      ],
      "metadata": {
        "id": "wBJOEas4wCWI"
      }
    },
    {
      "cell_type": "code",
      "source": [
        "# set words count and store it in the file\n",
        "L={\"One\",\"Two\",\"Three\",\"Four\",\"Five\"}"
      ],
      "metadata": {
        "id": "atGzKk_zwLXV"
      },
      "execution_count": null,
      "outputs": []
    },
    {
      "cell_type": "markdown",
      "source": [
        "Question 9 : Write to the file 100 random strings whose length  between 10 and 15."
      ],
      "metadata": {
        "id": "3E-YIHfewOBk"
      }
    },
    {
      "cell_type": "code",
      "source": [
        "import random as r\n",
        "import string as s\n",
        "fp=open('abc.txt','w')\n",
        "for i in range(100):\n",
        "  a=r.randint(10,15)\n",
        "  values=r.sample(s.ascii_letters,a)\n",
        "  values=\"\".join(values)\n",
        "  fp.write(values)"
      ],
      "metadata": {
        "id": "VV7xYFmWwRAn"
      },
      "execution_count": null,
      "outputs": []
    },
    {
      "cell_type": "markdown",
      "source": [
        "Question 11 : WAP to calculate the time taken by a program."
      ],
      "metadata": {
        "id": "WbdCuk5EwWE3"
      }
    },
    {
      "cell_type": "code",
      "source": [
        "# WAP to calculate the time taken by a program\n",
        "import time\n",
        "begin = time.time()\n",
        "for i in range(4):\n",
        "  print(\"hello\")\n",
        "time.sleep(1)\n",
        "end = time.time()\n",
        "print(f\"Total runtime of the program is {end - begin}\")"
      ],
      "metadata": {
        "id": "TNHwCLzwwZnC"
      },
      "execution_count": null,
      "outputs": []
    },
    {
      "cell_type": "markdown",
      "source": [
        "Question 13 : WAP to create a dictionary of student marks in five subjects and you have to find the student having maximum and minimum average marks"
      ],
      "metadata": {
        "id": "hPtX7vsgwc7J"
      }
    },
    {
      "cell_type": "code",
      "source": [
        "marks_dict = {}\n",
        "for i in range(5):\n",
        "    subject = input(\"Enter the subject: \")\n",
        "    marks = input(\"Enter the marks: \")\n",
        "    marks_dict[subject] = marks\n",
        "print(marks_dict)\n"
      ],
      "metadata": {
        "id": "eZdCwcWBwh-U"
      },
      "execution_count": null,
      "outputs": []
    }
  ]
}